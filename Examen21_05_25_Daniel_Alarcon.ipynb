{
  "nbformat": 4,
  "nbformat_minor": 0,
  "metadata": {
    "colab": {
      "provenance": [],
      "authorship_tag": "ABX9TyPInNIcl8vF+INY1yjRqfYV",
      "include_colab_link": true
    },
    "kernelspec": {
      "name": "python3",
      "display_name": "Python 3"
    },
    "language_info": {
      "name": "python"
    }
  },
  "cells": [
    {
      "cell_type": "markdown",
      "metadata": {
        "id": "view-in-github",
        "colab_type": "text"
      },
      "source": [
        "<a href=\"https://colab.research.google.com/github/danielutec/2025_UTEC_PROGRAM_101/blob/main/Examen21_05_25_Daniel_Alarcon.ipynb\" target=\"_parent\"><img src=\"https://colab.research.google.com/assets/colab-badge.svg\" alt=\"Open In Colab\"/></a>"
      ]
    },
    {
      "cell_type": "markdown",
      "source": [
        "Examen: Construyendo el Sistema de Recomendación de PythonFlix\n",
        "Contexto: Eres parte del equipo de ingeniería de PythonFlix, una plataforma de streaming que necesita construir y mejorar su sistema de recomendación. Vas a trabajar con estructuras de datos como listas, tuplas, diccionarios y sets para procesar ratings, historiales y perfiles de usuario.\n"
      ],
      "metadata": {
        "id": "lsE1CVlOt-aA"
      }
    },
    {
      "cell_type": "markdown",
      "source": [
        "1. Catálogo de contenido (Listas y tuplas)\n",
        "Tienes una tupla inmutable con las series más vistas:\n",
        "\n",
        "catalogo_popular = (\"Breaking Python\", \"Data Science 101\", \"Machine Love\", \"Debug Wars\")\n"
      ],
      "metadata": {
        "id": "cytp3C9VuEyd"
      }
    },
    {
      "cell_type": "markdown",
      "source": [
        "Convierte esta tupla en una lista y realiza lo siguiente:\n",
        "●\tAgrega una nueva serie: \"Neural Networks\"\n",
        "\n",
        "●\tReemplaza \"Debug Wars\" por \"AI Rebellion\"\n",
        "\n",
        "●\tOrdena la lista alfabéticamente\n"
      ],
      "metadata": {
        "id": "FpPQ6KviuJU0"
      }
    },
    {
      "cell_type": "code",
      "source": [
        "# Problema 1: Inicio del codigo\n",
        "\n",
        "catalogo_popular = (\"Breaking Python\", \"Data Science 101\", \"Machine Love\", \"Debug Wars\")\n",
        "\n",
        "# tupla a lista\n",
        "catalogo_popular_lista=list(catalogo_popular)\n",
        "print(catalogo_popular_lista)\n",
        "catalogo_popular_lista.append(\"Neural Networks\")\n",
        "\n",
        "print(catalogo_popular_lista)\n",
        "\n",
        "indice = catalogo_popular_lista.index(\"Debug Wars\")\n",
        "catalogo_popular_lista[indice] = \"AI Rebellion\"\n",
        "print(catalogo_popular_lista)\n",
        "\n",
        "catalogo_popular_lista.sort()\n",
        "print(catalogo_popular_lista)\n",
        "# fin del codigo"
      ],
      "metadata": {
        "colab": {
          "base_uri": "https://localhost:8080/"
        },
        "id": "jld6b6gc34um",
        "outputId": "8f63a21b-abf1-4edb-deaf-358d865bfc51"
      },
      "execution_count": null,
      "outputs": [
        {
          "output_type": "stream",
          "name": "stdout",
          "text": [
            "['Breaking Python', 'Data Science 101', 'Machine Love', 'Debug Wars']\n",
            "['Breaking Python', 'Data Science 101', 'Machine Love', 'Debug Wars', 'Neural Networks']\n",
            "['Breaking Python', 'Data Science 101', 'Machine Love', 'AI Rebellion', 'Neural Networks']\n",
            "['AI Rebellion', 'Breaking Python', 'Data Science 101', 'Machine Love', 'Neural Networks']\n"
          ]
        }
      ]
    },
    {
      "cell_type": "markdown",
      "source": [
        "2. Filtrado de géneros (Slicing)\n",
        "Tienes una lista con los géneros disponibles:\n",
        "\n",
        "generos = [\"Drama\", \"Comedia\", \"Acción\", \"Sci-Fi\", \"Documental\", \"Terror\", \"Romance\"]\n",
        "\n",
        "Realiza:\n",
        "●\tUn slicing que obtenga los géneros del medio\n",
        "\n",
        "●\tUn slicing que obtenga los tres primeros géneros\n",
        "\n",
        "●\tLos géneros ordenados en orden inverso (usando slicing)\n",
        "\n",
        "\n"
      ],
      "metadata": {
        "id": "QeBBzkhyudDD"
      }
    },
    {
      "cell_type": "code",
      "source": [
        "# Problema 2: Inicio del codigo\n",
        "generos = [\"Drama\", \"Comedia\", \"Acción\", \"Sci-Fi\", \"Documental\", \"Terror\", \"Romance\"]\n",
        "\n",
        "#Un slicing que obtenga los géneros del medio\n",
        "generos_medio = generos[1:5]\n",
        "print(generos_medio)\n",
        "\n",
        "#Un slicing que obtenga los tres primeros géneros\n",
        "generos_primeros = generos[:3]\n",
        "print(generos_primeros)\n",
        "\n",
        "#Los géneros ordenados en orden inverso (usando slicing)\n",
        "generos_inverso = generos[::-1]\n",
        "print(generos_inverso)\n",
        "\n",
        "# Fin del codigo"
      ],
      "metadata": {
        "colab": {
          "base_uri": "https://localhost:8080/"
        },
        "id": "jPPwrm3ZucwV",
        "outputId": "82de726e-95d4-4155-a74f-6f6d9db47dac"
      },
      "execution_count": null,
      "outputs": [
        {
          "output_type": "stream",
          "name": "stdout",
          "text": [
            "['Comedia', 'Acción', 'Sci-Fi', 'Documental']\n",
            "['Drama', 'Comedia', 'Acción']\n",
            "['Romance', 'Terror', 'Documental', 'Sci-Fi', 'Acción', 'Comedia', 'Drama']\n"
          ]
        }
      ]
    },
    {
      "cell_type": "markdown",
      "source": [
        "3. Puntajes de usuarios (Listas por comprensión)\n",
        "Tienes una lista de ratings otorgados por un usuario a distintas series:\n",
        "ratings = [4.5, 3.0, 5.0, 2.5, 4.0, 1.5]\n",
        "\n",
        "Con listas por comprensión, crea:\n",
        "●\tUna lista con solo los ratings mayores a 3.5\n",
        "\n",
        "●\tUna lista con los ratings convertidos a una escala del 1 al 100\n",
        "\n",
        "●\tUna lista de strings que diga \"Alta\" si rating > 4, \"Media\" si entre 3 y 4, \"Baja\" si menor\n",
        "\n"
      ],
      "metadata": {
        "id": "1Q9k8gXduh2k"
      }
    },
    {
      "cell_type": "code",
      "source": [
        "# Problema 3: Inicio del codigo\n",
        "ratings = [4.5, 3.0, 5.0, 2.5, 4.0, 1.5]\n",
        "\n",
        "# con lista de comprension crea una lista con solo los ratings mayores a 3.5\n",
        "ratings_mayor_3_5 = [rating for rating in ratings if rating > 3.5]\n",
        "print(ratings_mayor_3_5)\n",
        "\n",
        "#Una lista con los ratings convertidos a una escala del 1 al 100\n",
        "ratings_100 = [int(rating * 10) for rating in ratings]\n",
        "print(ratings_100)\n",
        "\n",
        "#  Una lista de strings que diga \"Alta\" si rating > 4, \"Media\" si entre 3 y 4, \"Baja\" si menor\n",
        "ratings_strings = [\"Alta\" if rating > 4 else \"Media\" if rating >= 3 else \"Baja\" for rating in ratings]\n",
        "print(ratings_strings)\n",
        "\n",
        "# Fin del codigo\n",
        "\n"
      ],
      "metadata": {
        "colab": {
          "base_uri": "https://localhost:8080/"
        },
        "id": "lPtDF7pwwNUV",
        "outputId": "90517be3-2f5c-4c67-e43b-02540b06e8e3"
      },
      "execution_count": null,
      "outputs": [
        {
          "output_type": "stream",
          "name": "stdout",
          "text": [
            "[4.5, 5.0, 4.0]\n",
            "[45, 30, 50, 25, 40, 15]\n",
            "['Alta', 'Media', 'Alta', 'Baja', 'Media', 'Baja']\n"
          ]
        }
      ]
    },
    {
      "cell_type": "markdown",
      "source": [
        "\n",
        "4. Historial de visualización (Diccionarios)\n",
        "Tienes un diccionario que representa el historial de un usuario:\n",
        "historial = {\n",
        "  \"Breaking Python\": 3,\n",
        "  \"Machine Love\": 5,\n",
        "  \"Data Science 101\": 2\n",
        "}\n",
        "\n",
        "Realiza lo siguiente:\n",
        "●\tAumenta en 1 la cantidad de veces que vio \"Data Science 101\"\n",
        "\n",
        "●\tAñade la serie \"AI Rebellion\" con 1 visualización\n",
        "\n",
        "●\tElimina \"Machine Love\" del historial\n",
        "\n",
        "●\tMuestra todas las series que el usuario vio más de 2 veces\n",
        "\n",
        "\n"
      ],
      "metadata": {
        "id": "SPx9GUoWulUI"
      }
    },
    {
      "cell_type": "code",
      "source": [
        "# problema 4 Inicio del codigo\n",
        "historial = {\n",
        "  \"Breaking Python\": 3,\n",
        "  \"Machine Love\": 5,\n",
        "  \"Data Science 101\": 2\n",
        "}\n",
        "\n",
        "historial[\"Data Science 101\"]+=1\n",
        "print(historial)\n",
        "historial[\"AI_Rebellion\"]=1\n",
        "print(historial)\n",
        "del historial[\"Machine Love\"]\n",
        "print(historial)\n",
        "\n",
        "series_vistas = [serie for serie, vistas in historial.items() if vistas>2]\n",
        "print(\"Series con mas de 2 vistas\",series_vistas)\n",
        "\n",
        "# fin del codigo"
      ],
      "metadata": {
        "colab": {
          "base_uri": "https://localhost:8080/"
        },
        "id": "uPO-NUIm4Fxh",
        "outputId": "881d3309-6470-4e26-806b-fd6bb35975b5"
      },
      "execution_count": null,
      "outputs": [
        {
          "output_type": "stream",
          "name": "stdout",
          "text": [
            "{'Breaking Python': 3, 'Machine Love': 5, 'Data Science 101': 3}\n",
            "{'Breaking Python': 3, 'Machine Love': 5, 'Data Science 101': 3, 'AI_Rebellion': 1}\n",
            "{'Breaking Python': 3, 'Data Science 101': 3, 'AI_Rebellion': 1}\n",
            "Series con mas de 2 vistas ['Breaking Python', 'Data Science 101']\n"
          ]
        }
      ]
    },
    {
      "cell_type": "markdown",
      "source": [
        "5. Usuarios únicos por serie (Sets)\n",
        "Tienes la siguiente información:\n",
        "\n",
        "usuarios_serie_A = {\"ana\", \"luis\", \"pedro\", \"maria\"}\n",
        "usuarios_serie_B = {\"maria\", \"pedro\", \"carla\", \"lucas\"}\n",
        "\n",
        "Usando sets:\n",
        "●\tEncuentra qué usuarios vieron ambas series\n",
        "\n",
        "●\tQué usuarios vieron solo la serie A\n",
        "\n",
        "●\tQué usuarios únicos vieron al menos una de las dos\n",
        "\n",
        "\n"
      ],
      "metadata": {
        "id": "lY4QekKXupUq"
      }
    },
    {
      "cell_type": "code",
      "source": [
        "# problema 5 inicio del codigo\n",
        "\n",
        "usuarios_serie_A = {\"ana\", \"luis\", \"pedro\", \"maria\"}\n",
        "usuarios_serie_B = {\"maria\", \"pedro\", \"carla\", \"lucas\"}\n",
        "\n",
        "# Encuentra qué usuarios vieron ambas series\n",
        "usuario_ambas_series=usuarios_serie_A.intersection(usuarios_serie_B)\n",
        "print(f\"Usuarios en ambas series: {usuario_ambas_series}\")\n",
        "\n",
        "# Qué usuarios vieron solo la serie A\n",
        "\n",
        "usuarios_solo_serie_A=usuarios_serie_A.difference(usuarios_serie_B)\n",
        "print(f\"Usuarios solo en serie A: {usuarios_solo_serie_A}\")\n",
        "\n",
        "# Qué usuarios únicos vieron al menos una de las dos\n",
        "\n",
        "usuarios_unicos=usuarios_serie_A.union(usuarios_serie_B)\n",
        "print(f\"Usuarios unicos: {usuarios_unicos}\")\n",
        "\n",
        "# fin del codigo"
      ],
      "metadata": {
        "colab": {
          "base_uri": "https://localhost:8080/"
        },
        "id": "Pl8f4HXH4Mip",
        "outputId": "cd759ce6-0d7d-4238-cfde-6c0f8b1cf0b2"
      },
      "execution_count": null,
      "outputs": [
        {
          "output_type": "stream",
          "name": "stdout",
          "text": [
            "Usuarios en ambas series: {'pedro', 'maria'}\n",
            "Usuarios solo en serie A: {'ana', 'luis'}\n",
            "Usuarios unicos: {'pedro', 'maria', 'ana', 'carla', 'lucas', 'luis'}\n"
          ]
        }
      ]
    },
    {
      "cell_type": "markdown",
      "source": [
        "6. Recomendaciones compartidas (Diccionario + Sets)\n",
        "Tienes una estructura con recomendaciones por usuario:\n",
        "recomendaciones = {\n",
        "  \"ana\": {\"Machine Love\", \"AI Rebellion\"},\n",
        "  \"luis\": {\"AI Rebellion\", \"Debug Wars\"},\n",
        "  \"pedro\": {\"Debug Wars\", \"Machine Love\"}\n",
        "}\n",
        "\n",
        "Encuentra con código:\n",
        "●\tLas series que fueron recomendadas a todos\n",
        "\n",
        "●\tLas series recomendadas a al menos dos personas\n",
        "\n",
        "●\tLas series recomendadas solo a una persona\n",
        "\n",
        "\n"
      ],
      "metadata": {
        "id": "aQ0MJtJmusLD"
      }
    },
    {
      "cell_type": "code",
      "source": [
        "# Problema 6: Inicio de Codigo\n",
        "recomendaciones = { \"ana\": {\"Machine Love\", \"AI Rebellion\"}, \"luis\": {\"AI Rebellion\", \"Debug Wars\"}, \"pedro\": {\"Debug Wars\", \"Machine Love\"} }\n",
        "\n",
        "# Series recomendadas a todos\n",
        "series_recomendadas_todos = {}\n",
        "\n",
        "for usuario, series_recomendadas in recomendaciones.items():\n",
        "    if len(series_recomendadas) == len(recomendaciones):\n",
        "        series_recomendadas_todos[usuario] = series_recomendadas\n",
        "\n",
        "print(f\"Series recomendadas a todos: {series_recomendadas_todos}\")\n",
        "\n",
        "\n",
        "# Series recomendadas a al menos dos personas\n",
        "conteo_series = {}\n",
        "\n",
        "for series_usuario in recomendaciones.values():  # Contar cuántas veces aparece cada serie\n",
        "    for serie in series_usuario:\n",
        "        if serie in conteo_series:\n",
        "            conteo_series[serie] += 1\n",
        "        else:\n",
        "            conteo_series[serie] = 1\n",
        "\n",
        "series_al_menos_dos = {serie for serie, count in conteo_series.items() if count >= 2} # Filtrar series con conteo >= 2\n",
        "print(f\"Series recomendadas a al menos dos personas: {series_al_menos_dos}\")\n",
        "\n",
        "# Series recomendadas solo a una persona\n",
        "series_recomendadas_solo_una = {}\n",
        "\n",
        "for usuario, series_recomendadas in recomendaciones.items():\n",
        "    if len(series_recomendadas) == 1:\n",
        "        series_recomendadas_solo_una[usuario] = series_recomendadas\n",
        "\n",
        "print(f\"Series recomendadas solo a una persona: {series_recomendadas_solo_una}\")\n",
        "\n",
        "# fin del codigo"
      ],
      "metadata": {
        "colab": {
          "base_uri": "https://localhost:8080/"
        },
        "id": "9KrXQ6oExYDt",
        "outputId": "27576a76-d9a5-4120-ce43-bbb6ba40a115"
      },
      "execution_count": 1,
      "outputs": [
        {
          "output_type": "stream",
          "name": "stdout",
          "text": [
            "Series recomendadas a todos: {}\n",
            "Series recomendadas a al menos dos personas: {'Machine Love', 'AI Rebellion', 'Debug Wars'}\n",
            "Series recomendadas solo a una persona: {}\n"
          ]
        }
      ]
    },
    {
      "cell_type": "markdown",
      "source": [
        "7. Transformar ratings (Tuplas + comprensión de diccionario)\n",
        "Tienes una lista de tuplas con (serie, rating):\n",
        "puntuaciones = [(\"Breaking Python\", 4.0), (\"AI Rebellion\", 5.0), (\"Debug Wars\", 2.0)]\n",
        "\n",
        "Crea un diccionario en el formato:\n",
        "{\n",
        "  \"Breaking Python\": \"Buena\",\n",
        "  \"AI Rebellion\": \"Excelente\",\n",
        "  \"Debug Wars\": \"Regular\"\n",
        "}\n",
        "\n",
        "Regla:\n",
        "●\tRating >= 4.5 → \"Excelente\"\n",
        "\n",
        "●\t3 <= rating < 4.5 → \"Buena\"\n",
        "\n",
        "●\t< 3 → \"Regular\"\n",
        "\n",
        "\n"
      ],
      "metadata": {
        "id": "Jpm1YzdluzDz"
      }
    },
    {
      "cell_type": "code",
      "source": [
        "# problema 7 inicio del codigo\n",
        "puntuaciones=[(\"Breaking Python\", 4.0), (\"AI Rebellion\", 5.0), (\"Debug Wars\",2.0)]\n",
        "\n",
        "calificacion_serie={}\n",
        "\n",
        "for serie, rating in puntuaciones:\n",
        "  if rating>=4.5:\n",
        "    calificacion_serie[serie]=\"Excelente\"\n",
        "  elif 3<=rating<4.5:\n",
        "    calificacion_serie[serie]=\"Buena\"\n",
        "  else:\n",
        "    calificacion_serie[serie]=\"Regular\"\n",
        "\n",
        "print(calificacion_serie)\n",
        "#fin del codigo"
      ],
      "metadata": {
        "colab": {
          "base_uri": "https://localhost:8080/"
        },
        "id": "m8vqyrk05E2E",
        "outputId": "c14c6b1f-4bb6-46b7-9735-2406c1c5fcd0"
      },
      "execution_count": null,
      "outputs": [
        {
          "output_type": "stream",
          "name": "stdout",
          "text": [
            "{'Breaking Python': 'Buena', 'AI Rebellion': 'Excelente', 'Debug Wars': 'Regular'}\n"
          ]
        }
      ]
    },
    {
      "cell_type": "markdown",
      "source": [
        "8. Usuarios y géneros favoritos (Diccionario + slicing)\n",
        "Cada usuario tiene una lista de sus géneros preferidos (ordenados por preferencia):\n",
        "gustos = {\n",
        "  \"ana\": [\"Sci-Fi\", \"Drama\", \"Documental\"],\n",
        "  \"luis\": [\"Comedia\", \"Acción\", \"Sci-Fi\"],\n",
        "  \"pedro\": [\"Drama\", \"Sci-Fi\", \"Romance\"]\n",
        "}\n",
        "\n",
        "Realiza:\n",
        "●\tUna lista con el primer género favorito de cada usuario\n",
        "\n",
        "●\tUna lista con todos los géneros mencionados sin repeticiones\n",
        "\n",
        "●\t¿Cuál género aparece más veces en la primera posición?\n",
        "\n",
        "\n"
      ],
      "metadata": {
        "id": "kSgVN_8bu1YD"
      }
    },
    {
      "cell_type": "code",
      "source": [
        "# Problema 8\n",
        "gustos = {\n",
        "  \"ana\": [\"Sci-Fi\", \"Drama\", \"Documental\"],\n",
        "  \"luis\": [\"Comedia\", \"Acción\", \"Sci-Fi\"],\n",
        "  \"pedro\": [\"Drama\", \"Sci-Fi\", \"Romance\"]\n",
        "}\n",
        "# Una lista con el primer género favorito de cada usuario\n",
        "primer_genero_usuario = {usuario: gustos[usuario][0] for usuario in gustos}\n",
        "print(primer_genero_usuario)\n",
        "\n",
        "# Una lista con todos los géneros mencionados sin repeticiones\n",
        "generos_mencionados = {genero for gustos_usuario in gustos.values() for genero in gustos_usuario}\n",
        "print(generos_mencionados)\n",
        "\n",
        "# ¿Cuál género aparece más veces en la primera posición?\n",
        "\n",
        "primeros_generos = [lista_gustos[0] for lista_gustos in gustos.values()] # Extraer los primeros géneros usando slicing [0]\n",
        "\n",
        "conteo_generos = {} # ontar la frecuencia de cada género en la primera posición\n",
        "for genero in primeros_generos:\n",
        "    if genero in conteo_generos:\n",
        "        conteo_generos[genero] += 1\n",
        "    else:\n",
        "        conteo_generos[genero] = 1\n",
        "\n",
        "genero_mas_comun = max(conteo_generos, key=conteo_generos.get) # Encontrar el género con el máximo conteo\n",
        "\n",
        "print(f\"El género que aparece más veces en la primera posición es {genero_mas_comun}\")\n",
        "# fin del codigo\n"
      ],
      "metadata": {
        "colab": {
          "base_uri": "https://localhost:8080/"
        },
        "id": "cPOACPeL2qRG",
        "outputId": "15f5cd5c-d2b1-41db-e76f-2171e4cf14f1"
      },
      "execution_count": null,
      "outputs": [
        {
          "output_type": "stream",
          "name": "stdout",
          "text": [
            "{'ana': 'Sci-Fi', 'luis': 'Comedia', 'pedro': 'Drama'}\n",
            "{'Romance', 'Comedia', 'Acción', 'Drama', 'Documental', 'Sci-Fi'}\n",
            "El género que aparece más veces en la primera posición es Sci-Fi\n"
          ]
        }
      ]
    },
    {
      "cell_type": "markdown",
      "source": [
        "9. Resumen de votos por serie (Diccionario + listas)\n",
        "Tienes una lista de votos como pares (serie, puntaje):\n",
        "votos = [(\"Breaking Python\", 5), (\"AI Rebellion\", 4), (\"Breaking Python\", 4), (\"Debug Wars\", 3), (\"AI Rebellion\", 5)]\n",
        "\n",
        "Crea un diccionario donde la clave sea la serie y el valor una lista con todos sus votos. Ejemplo:\n",
        "{\n",
        "  \"Breaking Python\": [5, 4],\n",
        "  ...\n",
        "}\n",
        "\n",
        "Luego, calcula el promedio de rating de cada serie.\n",
        "\n",
        "\n",
        "\n"
      ],
      "metadata": {
        "id": "L8Aj29-Gu3hc"
      }
    },
    {
      "cell_type": "code",
      "source": [
        "# Problema 9\n",
        "votos=[(\"Breaking Python\", 5), (\"AI Rebellion\", 4), (\"Breaking Python\", 4), (\"Debug Wars\", 3), (\"AI Rebellion\", 5)]\n",
        "\n",
        "series_votos={}\n",
        "\n",
        "for serie, puntaje in votos:\n",
        "  if serie not in series_votos:\n",
        "    series_votos[serie]=[]\n",
        "  series_votos[serie].append(puntaje)\n",
        "\n",
        "print(f\"Votos por serie: {series_votos}\")\n",
        "\n",
        "promedios_votos={}\n",
        "for serie, puntajes in series_votos.items():\n",
        "  promedio=sum(puntajes)/len(puntajes)\n",
        "  promedios_votos[serie]=promedio\n",
        "\n",
        "print(f\"Promedio de votos por serie: {promedios_votos}\")\n",
        "#fin del codigo"
      ],
      "metadata": {
        "colab": {
          "base_uri": "https://localhost:8080/"
        },
        "id": "jwyfZlLt5TaE",
        "outputId": "dab0c6b1-1e89-41f8-9b27-6c50f51908d9"
      },
      "execution_count": null,
      "outputs": [
        {
          "output_type": "stream",
          "name": "stdout",
          "text": [
            "Votos por serie: {'Breaking Python': [5, 4], 'AI Rebellion': [4, 5], 'Debug Wars': [3]}\n",
            "Promedio de votos por serie: {'Breaking Python': 4.5, 'AI Rebellion': 4.5, 'Debug Wars': 3.0}\n"
          ]
        }
      ]
    },
    {
      "cell_type": "markdown",
      "source": [
        "10. Motor básico de recomendaciones (Integrador)\n",
        "Define una función recomendar_series(usuario, historial, catalogo) que:\n",
        "●\tReciba el nombre de usuario, su historial en forma de diccionario {serie: vistas} y un catálogo con todas las series disponibles.\n",
        "\n",
        "●\tDevuelva una lista de series del catálogo que no haya visto aún.\n",
        "\n",
        "Ejemplo:\n",
        "usuario = \"ana\"\n",
        "historial = {\"AI Rebellion\": 3, \"Debug Wars\": 1}\n",
        "catalogo = [\"AI Rebellion\", \"Debug Wars\", \"Machine Love\", \"Data Science 101\"]\n",
        "\n",
        "Resultado:\n",
        "[\"Machine Love\", \"Data Science 101\"]"
      ],
      "metadata": {
        "id": "ZAbYMtf2u6Lq"
      }
    },
    {
      "cell_type": "code",
      "source": [
        "# problema 10\n",
        "\n",
        "def recomendar_series(user,historial,catalogo):\n",
        "  series_no_vistas=[serie for serie in catalogo if serie not in historial]\n",
        "  return series_no_vistas\n",
        "\n",
        "user=\"DANIEL\"\n",
        "historial={\"GOT\":10,\"\":7,\"Andor\":9,\"Two and a half man\":5}\n",
        "catalogo=[\"GOT\",\"Los Borgia\",\"Band of brothers\",\"Andor\",\"Fallout\"]\n",
        "\n",
        "recomendaciones=recomendar_series(user,historial,catalogo)\n",
        "print(f\"Las series que recomendamos para {user}  son: {recomendaciones}\")\n",
        "#fin de codigo"
      ],
      "metadata": {
        "colab": {
          "base_uri": "https://localhost:8080/"
        },
        "id": "Xnoq2h-l5esj",
        "outputId": "45ecf67c-9a3e-4709-e36e-6713abad4a50"
      },
      "execution_count": null,
      "outputs": [
        {
          "output_type": "stream",
          "name": "stdout",
          "text": [
            "Las series que recomendamos para DANIEL  son: ['Los Borgia', 'Band of brothers', 'Fallout']\n"
          ]
        }
      ]
    }
  ]
}
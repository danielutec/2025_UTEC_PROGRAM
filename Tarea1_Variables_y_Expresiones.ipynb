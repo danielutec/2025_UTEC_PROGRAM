{
  "nbformat": 4,
  "nbformat_minor": 0,
  "metadata": {
    "colab": {
      "provenance": [],
      "include_colab_link": true
    },
    "kernelspec": {
      "name": "python3",
      "display_name": "Python 3"
    },
    "language_info": {
      "name": "python"
    }
  },
  "cells": [
    {
      "cell_type": "markdown",
      "metadata": {
        "id": "view-in-github",
        "colab_type": "text"
      },
      "source": [
        "<a href=\"https://colab.research.google.com/github/danielutec/2025_UTEC_PROGRAM_101/blob/main/Tarea1_Variables_y_Expresiones.ipynb\" target=\"_parent\"><img src=\"https://colab.research.google.com/assets/colab-badge.svg\" alt=\"Open In Colab\"/></a>"
      ]
    },
    {
      "cell_type": "markdown",
      "source": [
        "<img src=\"https://posgrado.utec.edu.pe/sites/default/files/2023-08/Testimonial-home-2.jpg\" alt=\"HTML5 Icon\" width=\"900\" height=\"250\" >\n"
      ],
      "metadata": {
        "id": "cqadFmlrgAXp"
      }
    },
    {
      "cell_type": "markdown",
      "source": [
        "# **Ejercicios - Variables y Expresiones**"
      ],
      "metadata": {
        "id": "tW1-ULBmb0Cm"
      }
    },
    {
      "cell_type": "markdown",
      "source": [
        "**Ejercicio 1: Calculadora de ahorro semanal**\n",
        "\n",
        "Pide al usuario cuánto dinero ahorra cada día de lunes a domingo. Al final, muestra cuánto ahorró en total esa semana y cuánto tendría en un mes si repite el mismo patrón cada semana.\n",
        "\n",
        "- Pista: Usar 7 variables (ahorro_lunes, ahorro_martes, …), input(), float(), +, *."
      ],
      "metadata": {
        "id": "9igzfvIKqNGr"
      }
    },
    {
      "cell_type": "code",
      "source": [
        "## INICIO DE CÓDIGO\n",
        "# Add information related to savings during the week, monday to sunday\n",
        "print('Total Money saved during the week')\n",
        "savings_monday = float(input('Add money saved on Monday: '))\n",
        "savings_tuesday = float(input('Add money saved on Tuesday: '))\n",
        "savings_wednesday = float(input('Add money saved on Wednesday: '))\n",
        "savings_thursday = float(input('Add money saved on Thursday: '))\n",
        "savings_friday = float(input('Add money saved on Friday: '))\n",
        "savings_saturday = float(input('Add money saved on Saturday: '))\n",
        "savings_sunday = float(input('Add money saved on Sunday: '))\n",
        "\n",
        "# Weekly sum up\n",
        "weekly_savings = savings_monday + savings_tuesday + savings_wednesday + savings_thursday + savings_friday + savings_saturday + savings_sunday\n",
        "print(f'Weekly savings are equal to: \\033[94m{weekly_savings}\\033[0m')\n",
        "\n",
        "# Monthly sum up\n",
        "monthly_savings = weekly_savings*4\n",
        "print(f'Monthly savings if the patron persists: \\033[94m{monthly_savings}\\033[0m')\n",
        "## FIN DE CÓDIGO"
      ],
      "metadata": {
        "id": "BX-O1-4wqWF9",
        "colab": {
          "base_uri": "https://localhost:8080/"
        },
        "outputId": "29f67aa7-8edb-4cdd-8dc0-fbd491d4a742"
      },
      "execution_count": null,
      "outputs": [
        {
          "output_type": "stream",
          "name": "stdout",
          "text": [
            "Total Money saved during the week\n",
            "Add money saved on Monday: 1\n",
            "Add money saved on Tuesday: 2\n",
            "Add money saved on Wednesday: 3\n",
            "Add money saved on Thursday: 4\n",
            "Add money saved on Friday: 5\n",
            "Add money saved on Saturday: 6\n",
            "Add money saved on Sunday: 7\n",
            "weekly savings are equal to: \u001b[94m28.0\u001b[0m\n",
            "monthly savings if the patron persists: \u001b[94m112.0\u001b[0m\n"
          ]
        }
      ]
    },
    {
      "cell_type": "markdown",
      "source": [
        "**Ejercicio 2: Conversor de segundos**\n",
        "\n",
        "Solicita una cantidad total de segundos y muestra cuántos minutos y segundos representa.\n",
        "\n",
        "Ejemplo: 130 segundos → 2 minutos y 10 segundos\n",
        "* Pista: Usar // y %\n"
      ],
      "metadata": {
        "id": "oLaw6UggqV3E"
      }
    },
    {
      "cell_type": "code",
      "source": [
        "## INICIO DE CÓDIGO\n",
        "# Add seconds you want to transform\n",
        "time_requested = int(input(f'add the seconds you want to transform: '))\n",
        "# Determine how many minutes and seconds this seconds requested have\n",
        "minutes_transformed = time_requested//60\n",
        "seconds_transformed = time_requested%60\n",
        "# Express\n",
        "print(f'{time_requested} seconds are equal to: \\033[94m{minutes_transformed} minutes and {seconds_transformed} seconds\\033[0m')\n",
        "\n",
        "## FIN DE CÓDIGO"
      ],
      "metadata": {
        "id": "bAuxBROrqaWb",
        "colab": {
          "base_uri": "https://localhost:8080/"
        },
        "outputId": "2d218141-20bf-43b9-c0dd-91c716f9a8b3"
      },
      "execution_count": null,
      "outputs": [
        {
          "output_type": "stream",
          "name": "stdout",
          "text": [
            "add the seconds you want to transform: 123789\n",
            "123789 seconds are equal to: \u001b[94m2063 minutes and 9 seconds\u001b[0m\n"
          ]
        }
      ]
    },
    {
      "cell_type": "markdown",
      "source": [
        "**Ejercicio 3: Puntuación de juego**\n",
        "\n",
        "Un videojuego otorga:\n",
        "\n",
        "* 10 puntos por cada estrella recolectada,\n",
        "* 50 puntos por cada gema recolectada, y\n",
        "* 1 punto por cada segundo que el jugador se mantuvo vivo.\n",
        "\n",
        "Pide al usuario las tres cantidades y muestra su puntaje total.\n",
        "\n",
        "* Pista: total = estrellas*10 + gemas*50 + tiempo"
      ],
      "metadata": {
        "id": "dK4EIGoKrW2B"
      }
    },
    {
      "cell_type": "code",
      "source": [
        "## INICIO DE CÓDIGO\n",
        "# punctuation related to each token\n",
        "star_punct = 10\n",
        "gem_punct = 50\n",
        "seconds_alive_punct = 1\n",
        "\n",
        "# ask the users hoy many tokens he has\n",
        "star_collected = int(input('how many stars have you collected?:  '))\n",
        "gem_collected = int(input('how many gems have you collected?:  '))\n",
        "seconds_alive = int(input('how many seconds have you stayed alive: '))\n",
        "\n",
        "# Total score the player gained\n",
        "Total_score= print(f'The total score the player has is: \\033[94m{star_collected*star_punct + gem_collected*gem_punct + seconds_alive*seconds_alive_punct}\\033[0m')\n",
        "\n",
        "## FIN DE CÓDIGO"
      ],
      "metadata": {
        "id": "jkBQHQF1rlUY",
        "colab": {
          "base_uri": "https://localhost:8080/"
        },
        "outputId": "43b2eccc-8f62-4b65-fbac-7af783455c9e"
      },
      "execution_count": null,
      "outputs": [
        {
          "output_type": "stream",
          "name": "stdout",
          "text": [
            "how many stars have you collected?:  5\n",
            "how many gems have you collected?:  2\n",
            "how many seconds have you stayed alive: 4\n",
            "The total score the player has is: \u001b[94m154\u001b[0m\n"
          ]
        }
      ]
    },
    {
      "cell_type": "markdown",
      "source": [
        "**Ejercicio 4: Conversor de monedas con tasa personalizada**\n",
        "\n",
        "Solicita al usuario:\n",
        "\n",
        "* El monto en soles\n",
        "* La tasa de cambio a dólares\n",
        "\n",
        "Muestra el equivalente en dólares, redondeado a 2 decimales.\n",
        "\n",
        "* Pista: Usar float(), *, round(valor, 2)"
      ],
      "metadata": {
        "id": "wW9Edl_8rlt1"
      }
    },
    {
      "cell_type": "code",
      "source": [
        "## INICIO DE CÓDIGO\n",
        "\n",
        "# User request\n",
        "amount_soles= float(input('Add your soles amount: '))\n",
        "exchange_rate= float(input('Exchange rate (soles to dollars): '))\n",
        "\n",
        "# Amount in dollars rounding with 2 decimals\n",
        "print('Amount in dollars:')\n",
        "amount_dollars= print(f'\\033[94m{amount_soles}\\033[0m soles area \\033[94m{round(amount_soles/exchange_rate,2)}\\033[0m dollars with an exchange rate of \\033[94m{exchange_rate}\\033[0m')\n",
        "\n",
        "# Express\n",
        "\n",
        "## FIN DE CÓDIGO"
      ],
      "metadata": {
        "id": "fTCsCohHrmQW",
        "colab": {
          "base_uri": "https://localhost:8080/"
        },
        "outputId": "e4df0822-8bb9-4266-a04e-4a80641584ba"
      },
      "execution_count": 5,
      "outputs": [
        {
          "output_type": "stream",
          "name": "stdout",
          "text": [
            "Add your soles amount: 349\n",
            "Exchange rate (soles to dollars): 3.7\n",
            "Amount in dollars:\n",
            "\u001b[94m349.0\u001b[0m soles area \u001b[94m94.32\u001b[0m dollars with an exchange rate of \u001b[94m3.7\u001b[0m\n"
          ]
        }
      ]
    },
    {
      "cell_type": "markdown",
      "source": [
        "**Ejercicio 5: Costo compartido de viaje**\n",
        "\n",
        "Tres amigos hacen un viaje y pagan distintos montos:\n",
        "\n",
        "* Ana pagó gasolina,\n",
        "* Luis pagó peajes,\n",
        "* Carla pagó comida.\n",
        "\n",
        "Pide los tres montos, calcula el total y cuánto debería aportar cada uno para que paguen igual.\n",
        "\n",
        "* Pista: Calcular el total y luego dividirlo entre 3"
      ],
      "metadata": {
        "id": "JYUyJAidrmnT"
      }
    },
    {
      "cell_type": "code",
      "source": [
        "## INICIO DE CÓDIGO\n",
        "\n",
        "# what they have paid\n",
        "ana = float(input('spent in gas: '))\n",
        "luis = float(input('spent in tolls: '))\n",
        "carlos = float(input('spent in food: '))\n",
        "\n",
        "# total\n",
        "total_spent = round((ana + luis + carlos),2)\n",
        "print(f'Total spent: \\033[94m{total_spent}\\033[0m')\n",
        "\n",
        "#if the spent would be equal\n",
        "total_spent_equal = round(total_spent/3,2)\n",
        "print(f'Total spent equal: \\033[94m{total_spent_equal}\\033[0m')\n",
        "\n",
        "\n",
        "## FIN DE CÓDIGO"
      ],
      "metadata": {
        "id": "SGjH-m_mrom9",
        "colab": {
          "base_uri": "https://localhost:8080/"
        },
        "outputId": "c12e15d2-77fd-4259-bc1f-650d97b8a904"
      },
      "execution_count": 7,
      "outputs": [
        {
          "output_type": "stream",
          "name": "stdout",
          "text": [
            "spent in gas: 4\n",
            "spent in tolls: 6\n",
            "spent in food: 87\n",
            "Total spent: \u001b[94m97.0\u001b[0m\n",
            "Total spent equal: \u001b[94m32.33\u001b[0m\n"
          ]
        }
      ]
    },
    {
      "cell_type": "markdown",
      "source": [
        "**Ejercicio 6: Tiempo total de estudio**\n",
        "\n",
        "Solicita al usuario cuántas horas estudió en 4 materias distintas.\n",
        "\n",
        "Muestra el total de horas de estudio en la semana y el promedio diario (considerando 7 días).\n"
      ],
      "metadata": {
        "id": "skhBiCaCro5l"
      }
    },
    {
      "cell_type": "code",
      "source": [
        "\n",
        "## INICIO DE CÓDIGO\n",
        "\n",
        "# ask how many hours did he study per every subject\n",
        "sub_1 = float(input('How many hours did you study in subject 1?: '))\n",
        "sub_2 = float(input('How many hours did you study in subject 2?: '))\n",
        "sub_3 = float(input('How many hours did you study in subject 3?: '))\n",
        "sub_4 = float(input('How many hours did you study in subject 4?: '))\n",
        "\n",
        "# Total of hours study per week\n",
        "total_sub = sub_1 + sub_2 + sub_3 + sub_4\n",
        "print(f'Total of hours study per week: \\033[94m{total_sub}\\033[0m')\n",
        "\n",
        "# Average of hours study per day considering 7 days\n",
        "average_sub = round(total_sub/7,2)\n",
        "print(f'Average of hours study per day: \\033[94m{average_sub}\\033[0m')\n",
        "\n",
        "\n",
        "## FIN DE CÓDIGO"
      ],
      "metadata": {
        "id": "HnFuV1RPrqXQ",
        "colab": {
          "base_uri": "https://localhost:8080/"
        },
        "outputId": "16fe07eb-0888-4181-9fe9-0967ef571944"
      },
      "execution_count": 9,
      "outputs": [
        {
          "output_type": "stream",
          "name": "stdout",
          "text": [
            "How many hours did you study in subject 1?: 5\n",
            "How many hours did you study in subject 2?: 7.8\n",
            "How many hours did you study in subject 3?: 9\n",
            "How many hours did you study in subject 4?: 77\n",
            "Total of hours study per week: \u001b[94m98.8\u001b[0m\n",
            "Average of hours study per day: \u001b[94m14.11\u001b[0m\n"
          ]
        }
      ]
    },
    {
      "cell_type": "markdown",
      "source": [
        "**Ejercicio 7: Nombre codificado (nivel string)**\n",
        "\n",
        "Pide al usuario su nombre completo y muestra:\n",
        "\n",
        "* La cantidad de caracteres (con len())\n",
        "* Su nombre todo en mayúsculas (.upper())\n",
        "* Su nombre todo en minúsculas (.lower())\n"
      ],
      "metadata": {
        "id": "rNjtOXKWrqs5"
      }
    },
    {
      "cell_type": "code",
      "source": [
        "## INICIO DE CÓDIGO\n",
        "# asking the user\n",
        "name = input('Add your full name: ')\n",
        "# quantity of characters\n",
        "quant = len(name)\n",
        "print (f'The quantity of characters is: \\033[94m{quant}\\033[0m')\n",
        "# upper name\n",
        "print(f'Your name in upper case is: \\033[94m{name.upper()}\\033[0m')\n",
        "\n",
        "# lower name\n",
        "print (f'Your name in lower case is: \\033[94m{name.lower()}\\033[0m')\n",
        "\n",
        "## FIN DE CÓDIGO"
      ],
      "metadata": {
        "id": "GnGm74GXrsL0",
        "colab": {
          "base_uri": "https://localhost:8080/"
        },
        "outputId": "f18af576-b777-469a-a012-2c100ef8f054"
      },
      "execution_count": 10,
      "outputs": [
        {
          "output_type": "stream",
          "name": "stdout",
          "text": [
            "Add your full name: Daniel Alarcon Alcanta\n",
            "The quantity of characters is: \u001b[94m22\u001b[0m\n",
            "Your name in upper case is: \u001b[94mDANIEL ALARCON ALCANTA\u001b[0m\n",
            "Your name in lower case is: \u001b[94mdaniel alarcon alcanta\u001b[0m\n"
          ]
        }
      ]
    },
    {
      "cell_type": "markdown",
      "source": [
        "**Ejercicio 8: Frase repetida**\n",
        "\n",
        "Pide una frase y un número n, y muestra la frase repetida n veces, cada una en una línea.\n",
        "\n",
        "* Pista: print(frase * n)  # y/o con '\\n'"
      ],
      "metadata": {
        "id": "lrhPyjmWrse2"
      }
    },
    {
      "cell_type": "code",
      "source": [
        "## INICIO DE CÓDIGO\n",
        "# adding a phrase\n",
        "phrase = input('Add a phrase: ')\n",
        "numb = int(input('Add a number:'))\n",
        "\n",
        "# repeating the phrase\n",
        "print(f' \\033[94m{numb}\\033[0m times \\033[94m{phrase}\\033[0m is repeated:')\n",
        "repeated = '\\n'.join([phrase] * numb)\n",
        "print(repeated)\n",
        "\n",
        "\n",
        "## FIN DE CÓDIGO"
      ],
      "metadata": {
        "id": "Vzef3t_Lru0p",
        "colab": {
          "base_uri": "https://localhost:8080/"
        },
        "outputId": "5cd986f7-a7fa-4e9b-a68c-636f8afb0e47"
      },
      "execution_count": 34,
      "outputs": [
        {
          "output_type": "stream",
          "name": "stdout",
          "text": [
            "Add a phrase: Daniel\n",
            "Add a number:5\n",
            " \u001b[94m5\u001b[0m times \u001b[94mDaniel\u001b[0m is repeated:\n",
            "Daniel\n",
            "Daniel\n",
            "Daniel\n",
            "Daniel\n",
            "Daniel\n"
          ]
        }
      ]
    },
    {
      "cell_type": "markdown",
      "source": [
        "**Ejercicio 9: División de cuentas**\n",
        "\n",
        "Un grupo de amigos pide una cuenta por S/ 250.\n",
        "Pide al usuario cuántas personas están en el grupo y muestra cuánto debe pagar cada uno.\n",
        "\n",
        "Asegúrate de redondear el resultado a 2 decimales.\n",
        "\n",
        "* Pista: Usa la funcion round()"
      ],
      "metadata": {
        "id": "5NpbbGR_rvNH"
      }
    },
    {
      "cell_type": "code",
      "source": [
        "## INICIO DE CÓDIGO\n",
        "# cost of the check\n",
        "check = 250\n",
        "print (f'the total check is {check} soles')\n",
        "# asking to split the account\n",
        "n_people = input('how many people are in your group: ')\n",
        "\n",
        "# check to pay for every individual\n",
        "n_check = round(check/int(n_people),2)\n",
        "print(f'The check to pay for every individual is: \\033[94m{n_check}\\033[0m soles')\n",
        "\n",
        "\n",
        "## FIN DE CÓDIGO"
      ],
      "metadata": {
        "id": "uMxuVCUVrvj6",
        "colab": {
          "base_uri": "https://localhost:8080/"
        },
        "outputId": "f5c8ef85-b73f-4816-cff4-7f3e63a26298"
      },
      "execution_count": 38,
      "outputs": [
        {
          "output_type": "stream",
          "name": "stdout",
          "text": [
            "the total check is 250 soles\n",
            "how many people are in your group: 5\n",
            "The check to pay for every individual is: \u001b[94m50.0\u001b[0m soles\n"
          ]
        }
      ]
    },
    {
      "cell_type": "markdown",
      "source": [
        "**Ejercicio 10: Calendario de clases**\n",
        "\n",
        "Pide cuántas horas se estudia en promedio por día, y cuántos días tiene el mes.\n",
        "\n",
        "Calcula cuántas horas de estudio habrá ese mes."
      ],
      "metadata": {
        "id": "p3PYp0l4pxuI"
      }
    },
    {
      "cell_type": "code",
      "source": [
        "## INICIO DE CÓDIGO\n",
        "# asking how many hours in average you study per day\n",
        "study_hours = float(input('how many hours you study per day: '))\n",
        "days_month = int(input('how many days does this month have: '))\n",
        "\n",
        "# hours study per month\n",
        "hours_month = round(study_hours*days_month,2)\n",
        "print(f'Hours study per month: \\033[94m{hours_month}\\033[0m')\n",
        "\n",
        "## FIN DE CÓDIGO"
      ],
      "metadata": {
        "id": "y1bXFffhrxk2",
        "colab": {
          "base_uri": "https://localhost:8080/"
        },
        "outputId": "27ab5498-b11a-4be9-ef32-c353ee79e9f5"
      },
      "execution_count": 40,
      "outputs": [
        {
          "output_type": "stream",
          "name": "stdout",
          "text": [
            "how many hours you study per day: 48\n",
            "how many days does this month have: 30\n",
            "Hours study per month: \u001b[94m1440.0\u001b[0m\n"
          ]
        }
      ]
    },
    {
      "cell_type": "markdown",
      "source": [
        "---\n",
        "\n",
        "# Gracias por completar este laboratorio!\n",
        "\n",
        "---\n"
      ],
      "metadata": {
        "id": "8_ZocYoOrx3Z"
      }
    }
  ]
}